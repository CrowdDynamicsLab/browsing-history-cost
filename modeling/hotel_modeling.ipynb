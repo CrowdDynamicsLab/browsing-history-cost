{
 "cells": [
  {
   "cell_type": "code",
   "execution_count": 5,
   "metadata": {
    "id": "23e39c67"
   },
   "outputs": [],
   "source": [
    "import numpyro\n",
    "import numpyro.distributions as dist\n",
    "import numpyro.optim as optim\n",
    "from numpyro.diagnostics import effective_sample_size, hpdi, print_summary\n",
    "from numpyro.infer import NUTS, MCMC, Predictive, SVI, Trace_ELBO, init_to_value\n",
    "\n",
    "from numpyro.infer.autoguide import AutoLaplaceApproximation, AutoDiagonalNormal\n",
    "from numpyro import sample, deterministic\n",
    "numpyro.set_host_device_count(10)\n",
    "from numpyro.distributions import constraints\n",
    "from numpyro.diagnostics import effective_sample_size, print_summary\n",
    "\n",
    "import warnings\n",
    "\n",
    "import jax\n",
    "import jax.numpy as jnp\n",
    "from jax import lax, random\n",
    "from jax.scipy.special import expit\n",
    "\n",
    "from numpyro.distributions import constraints\n",
    "from numpyro.infer import Predictive, SVI, Trace_ELBO\n",
    "\n",
    "import arviz as az\n",
    "import matplotlib.pyplot as plt\n",
    "import numpy as np\n",
    "import pandas as pd\n",
    "import seaborn as sns\n",
    "\n",
    "import sys\n",
    "import os\n",
    "import matplotlib as mpl\n",
    "from matplotlib import gridspec\n",
    "from matplotlib.ticker import FormatStrFormatter\n",
    "from matplotlib import rc\n",
    "from matplotlib.ticker import (MultipleLocator, AutoMinorLocator, FixedLocator)\n",
    "\n",
    "from arviz.data.base import dict_to_dataset\n",
    "\n",
    "from scipy.special import expit as logistic\n",
    "from modeling import interaction_plot, simpleBar, prob_higher_graph, plot_posterior_sellers\n",
    "\n",
    "import xarray as xr\n"
   ]
  },
  {
   "cell_type": "code",
   "execution_count": null,
   "metadata": {
    "id": "ssM3jDLvLIB7"
   },
   "outputs": [],
   "source": [
    "base_path = None # INSERT PATH TO file"
   ]
  },
  {
   "cell_type": "code",
   "execution_count": null,
   "metadata": {
    "id": "bdb7bc82"
   },
   "outputs": [],
   "source": [
    "df = pd.read_csv(os.path.join(base_path, 'compare_table_full.csv'))\n",
    "conditions1 = [\n",
    "    (df['profile_x'] == 0),\n",
    "    (df['profile_x'] == 1),\n",
    "    (df['profile_x'] == 2),\n",
    "    (df['profile_x'] == 3),\n",
    "    (df['profile_x'] == 4),\n",
    "    (df['profile_x'] == 5),\n",
    "    (df['profile_x'] == 6),\n",
    "    (df['profile_x'] == 7),\n",
    "    (df['profile_x'] == 8)\n",
    "    ]\n",
    "\n",
    "conditions2 = [\n",
    "    (df['profile_y'] == 0),\n",
    "    (df['profile_y'] == 1),\n",
    "    (df['profile_y'] == 2),\n",
    "    (df['profile_y'] == 3),\n",
    "    (df['profile_y'] == 4),\n",
    "    (df['profile_y'] == 5),\n",
    "    (df['profile_y'] == 6),\n",
    "    (df['profile_y'] == 7),\n",
    "    (df['profile_y'] == 8)\n",
    "    ]\n",
    "names = ['Control', 'F_B', 'M_B', 'Y_B', 'S_B', 'F_A', 'M_A', 'Y_A', 'S_A']\n",
    "\n",
    "df['profile_label_x'] = np.select(conditions1, names)\n",
    "df['profile_label_y'] = np.select(conditions2, names)\n",
    "\n",
    "# df['profile_label_x'] = df['profile_x']\n",
    "# df['profile_label_y'] = df['profile_y']"
   ]
  },
  {
   "cell_type": "code",
   "execution_count": null,
   "metadata": {
    "id": "7bbc4edf"
   },
   "outputs": [],
   "source": [
    "# labeling sellers with numbers\n",
    "seller_idx, sellers = pd.factorize(df[\"seller\"], sort=True)"
   ]
  },
  {
   "cell_type": "code",
   "execution_count": null,
   "metadata": {
    "id": "f2f5537e"
   },
   "outputs": [],
   "source": [
    "df1 = df\n",
    "df1 = df1[['profile_label_x','profile_label_y', 'price_x', 'price_y','seller','price_diff']]\n",
    "df1.head()"
   ]
  },
  {
   "cell_type": "code",
   "execution_count": null,
   "metadata": {
    "colab": {
     "base_uri": "https://localhost:8080/"
    },
    "id": "808bb859",
    "outputId": "2ca41ecb-64e3-4495-a1f3-eeed50b7cae2"
   },
   "outputs": [
    {
     "name": "stderr",
     "output_type": "stream",
     "text": [
      "WARNING:jax._src.xla_bridge:No GPU/TPU found, falling back to CPU. (Set TF_CPP_MIN_LOG_LEVEL=0 and rerun for more info.)\n"
     ]
    }
   ],
   "source": [
    "profile_x_idx, p_x = pd.factorize(df1[\"profile_label_x\"])\n",
    "profile_y_idx, p_y = pd.factorize(df1[\"profile_label_y\"])\n",
    "\n",
    "seller_x_idx, s_x = pd.factorize(df1[\"seller\"], sort = True)\n",
    "seller_y_idx, s_y = pd.factorize(df1[\"seller\"], sort = True)\n",
    "\n",
    "price_diff = jnp.asarray(df1.price_diff.values)\n",
    "\n",
    "seller_x = jnp.asarray(seller_x_idx)\n",
    "seller_y = jnp.asarray(seller_y_idx)\n",
    "\n",
    "profile_x = jnp.asarray(profile_x_idx)\n",
    "profile_y = jnp.asarray(profile_y_idx)"
   ]
  },
  {
   "cell_type": "markdown",
   "metadata": {
    "id": "51fbadc5"
   },
   "source": [
    "## Use an autoguide and run the SVI"
   ]
  },
  {
   "cell_type": "code",
   "execution_count": null,
   "metadata": {
    "colab": {
     "base_uri": "https://localhost:8080/"
    },
    "id": "Lf4gd9XJN6m3",
    "outputId": "54ea2af6-1303-4965-bfd8-13f92b0a7632"
   },
   "outputs": [
    {
     "name": "stderr",
     "output_type": "stream",
     "text": [
      "100%|██████████| 15000/15000 [3:33:49<00:00,  1.17it/s, init loss: 55361920.0000, avg. loss [14251-15000]: 974967.7500]\n"
     ]
    }
   ],
   "source": [
    "autoGuide = AutoDiagonalNormal(model0)\n",
    "data_dict_svi = {\n",
    "    \"seller_x\" : seller_x,\n",
    "    \"profile_x\" : profile_x,\n",
    "    \"seller_y\" : seller_y,\n",
    "    \"profile_y\" : profile_y,\n",
    "}\n",
    "svi = SVI(\n",
    "    model0,\n",
    "    autoGuide,\n",
    "    optim.Adam(5e-4),\n",
    "    Trace_ELBO(),\n",
    "    **data_dict_svi\n",
    ")\n",
    "num_steps = 15000\n",
    "svi_result = svi.run(random.PRNGKey(0), num_steps, price_diff)\n",
    "params = svi_result.params\n",
    "\n",
    "# Run predictive and get use that for the trace\n",
    "predictive = Predictive(autoGuide, params=params, num_samples=10000)\n",
    "samples = predictive(random.PRNGKey(1), price_diff, **data_dict_svi)"
   ]
  },
  {
   "cell_type": "code",
   "execution_count": null,
   "metadata": {
    "id": "ca87ba4f"
   },
   "outputs": [],
   "source": [
    "import matplotlib.ticker as ticker\n",
    "\n",
    "plt.rcParams.update({'font.size': 70})\n",
    "plt.rcParams.update({'font.weight' : 'normal'})\n",
    "plt.rcParams[\"font.family\"] = \"Times New Roman\"\n",
    "\n",
    "fig, ax=plt.subplots()\n",
    "\n",
    "ax.scatter(np.arange(0, num_steps), svi_result.losses/1000000, c='#2ca02c')\n",
    "\n",
    "#ax.yaxis.get_major_formatter().set_scientific(True)\n",
    "\n",
    "plt.xlabel('Number of Iterations')\n",
    "plt.ylabel('Loss (millions)') \n",
    "\n",
    "plt.savefig('elbo_prob_difference.pdf',  bbox_inches='tight', pad_inches = 0)"
   ]
  },
  {
   "cell_type": "markdown",
   "metadata": {
    "id": "bd454579"
   },
   "source": [
    "## Covert to posterior object so we can reuse the plotting code"
   ]
  },
  {
   "cell_type": "code",
   "execution_count": null,
   "metadata": {
    "id": "b9157a32"
   },
   "outputs": [],
   "source": [
    "samples.pop('_auto_latent', None)\n",
    "for elem in samples:\n",
    "    samples[elem] = samples[elem][np.newaxis, :]"
   ]
  },
  {
   "cell_type": "code",
   "execution_count": null,
   "metadata": {
    "id": "d6014390"
   },
   "outputs": [],
   "source": [
    "dims = {\n",
    "    'β_var': ['profiles'],\n",
    "    'δ': ['sellers', 'profiles']\n",
    "}\n",
    "\n",
    "coords = {'profiles' : p_x, 'sellers' : s_x}\n",
    "f_data = dict_to_dataset(samples, coords = coords, dims= dims)\n",
    "f_data = az.InferenceData(posterior = f_data)"
   ]
  },
  {
   "cell_type": "markdown",
   "metadata": {
    "id": "UaDkKErtTIYn"
   },
   "source": [
    "## Doing the Price Difference Model"
   ]
  },
  {
   "cell_type": "code",
   "execution_count": null,
   "metadata": {
    "colab": {
     "base_uri": "https://localhost:8080/"
    },
    "id": "AkgtpCGg5P2r",
    "outputId": "767fc1f3-2ca0-4676-b20f-871a8257fb18"
   },
   "outputs": [
    {
     "name": "stderr",
     "output_type": "stream",
     "text": [
      "<ipython-input-31-9ef94bcf72c8>:2: SettingWithCopyWarning: \n",
      "A value is trying to be set on a copy of a slice from a DataFrame.\n",
      "Try using .loc[row_indexer,col_indexer] = value instead\n",
      "\n",
      "See the caveats in the documentation: https://pandas.pydata.org/pandas-docs/stable/user_guide/indexing.html#returning-a-view-versus-a-copy\n",
      "  df2['price_diff'] = df2['price_x'] - df2['price_y']\n"
     ]
    }
   ],
   "source": [
    "df2 = df1[df1['price_diff'] == 1]\n",
    "df2['price_diff'] = df2['price_x'] - df2['price_y']\n",
    "\n",
    "profile_x_idx2, p_x2 = pd.factorize(df2[\"profile_label_x\"])\n",
    "profile_y_idx2, p_y2 = pd.factorize(df2[\"profile_label_y\"])\n",
    "\n",
    "seller_x_idx2, s_x2 = pd.factorize(df2[\"seller\"], sort = True)\n",
    "seller_y_idx2, s_y2 = pd.factorize(df2[\"seller\"], sort = True)\n",
    "\n",
    "price_diff = jnp.asarray(df2.price_diff.values)\n",
    "seller_x = jnp.asarray(seller_x_idx2)\n",
    "seller_y = jnp.asarray(seller_y_idx2)\n",
    "\n",
    "profile_x = jnp.asarray(profile_x_idx2)\n",
    "profile_y = jnp.asarray(profile_y_idx2)"
   ]
  },
  {
   "cell_type": "code",
   "execution_count": null,
   "metadata": {
    "colab": {
     "base_uri": "https://localhost:8080/"
    },
    "id": "c332643e",
    "outputId": "c4630954-2800-4ea8-a7c3-644882f16141"
   },
   "outputs": [
    {
     "name": "stderr",
     "output_type": "stream",
     "text": [
      "100%|██████████| 15000/15000 [04:06<00:00, 60.94it/s, init loss: 51336982528.0000, avg. loss [14251-15000]: 51825224.0000]\n"
     ]
    }
   ],
   "source": [
    "autoGuide2 = AutoDiagonalNormal(model0_dollar)\n",
    "data_dict_svi = {\n",
    "    \"seller_x\" : seller_x,\n",
    "    \"profile_x\" : profile_x,\n",
    "    \"seller_y\" : seller_y,\n",
    "    \"profile_y\" : profile_y,\n",
    "}\n",
    "svi = SVI(\n",
    "    model0_dollar,\n",
    "    autoGuide2,\n",
    "    optim.Adam(5e-4),\n",
    "    Trace_ELBO(),\n",
    "    **data_dict_svi\n",
    ")\n",
    "num_steps = 15000\n",
    "svi_result = svi.run(random.PRNGKey(0), num_steps, price_diff)\n",
    "params = svi_result.params\n",
    "\n",
    "# Run predictive and get use that for the trace\n",
    "predictive = Predictive(autoGuide2, params=params, num_samples=10000)\n",
    "samples = predictive(random.PRNGKey(1), price_diff, **data_dict_svi)"
   ]
  },
  {
   "cell_type": "code",
   "execution_count": null,
   "metadata": {
    "colab": {
     "base_uri": "https://localhost:8080/",
     "height": 508
    },
    "id": "8qNvhtfw56dv",
    "outputId": "af030579-cca8-4ae9-eac4-d4674ce33fde"
   },
   "outputs": [
    {
     "data": {
      "image/png": "[encoded data removed]",
      "text/plain": [
       "<Figure size 720x480 with 1 Axes>"
      ]
     },
     "metadata": {},
     "output_type": "display_data"
    }
   ],
   "source": [
    "import matplotlib.ticker as ticker\n",
    "\n",
    "plt.rcParams.update({'font.size': 70})\n",
    "plt.rcParams.update({'font.weight' : 'normal'})\n",
    "plt.rcParams[\"font.family\"] = \"Times New Roman\"\n",
    "\n",
    "fig, ax=plt.subplots()\n",
    "\n",
    "ax.scatter(np.arange(0, num_steps), svi_result.losses/1000000, c='#2ca02c')\n",
    "\n",
    "#ax.yaxis.get_major_formatter().set_scientific(True)\n",
    "\n",
    "plt.xlabel('Number of Iterations')\n",
    "plt.ylabel('Loss (millions)') \n",
    "\n",
    "plt.savefig('elbo_dollar_difference.pdf',  bbox_inches='tight', pad_inches = 0)"
   ]
  },
  {
   "cell_type": "code",
   "execution_count": null,
   "metadata": {},
   "outputs": [],
   "source": [
    "dims = {\n",
    "    'β_var': ['profiles'],\n",
    "    'δ': ['sellers', 'profiles']\n",
    "}\n",
    "\n",
    "coords = {'profiles' : p_x2, 'sellers' : s_x2}\n",
    "f_datap = dict_to_dataset(samples, coords = coords, dims= dims)\n",
    "f_datap = az.InferenceData(posterior = f_datap)"
   ]
  }
 ],
 "metadata": {
  "colab": {
   "provenance": []
  },
  "kernelspec": {
   "display_name": "Python 2",
   "language": "python",
   "name": "python2"
  },
  "language_info": {
   "codemirror_mode": {
    "name": "ipython",
    "version": 2
   },
   "file_extension": ".py",
   "mimetype": "text/x-python",
   "name": "python",
   "nbconvert_exporter": "python",
   "pygments_lexer": "ipython2",
   "version": "2.7.15"
  }
 },
 "nbformat": 4,
 "nbformat_minor": 5
}
