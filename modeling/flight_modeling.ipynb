{
 "cells": [
  {
   "cell_type": "code",
   "execution_count": 1,
   "metadata": {},
   "outputs": [],
   "source": [
    "import numpyro\n",
    "import numpyro.distributions as dist\n",
    "import numpyro.optim as optim\n",
    "from numpyro.diagnostics import effective_sample_size, hpdi, print_summary\n",
    "from numpyro.infer import NUTS, MCMC, Predictive, SVI, Trace_ELBO, init_to_value\n",
    "\n",
    "from numpyro.infer.autoguide import AutoLaplaceApproximation, AutoDiagonalNormal\n",
    "from numpyro import sample, deterministic\n",
    "numpyro.set_host_device_count(10)\n",
    "from numpyro.distributions import constraints\n",
    "from numpyro.diagnostics import effective_sample_size, print_summary\n",
    "\n",
    "import warnings\n",
    "\n",
    "import jax\n",
    "import jax.numpy as jnp\n",
    "from jax import lax, random\n",
    "from jax.scipy.special import expit\n",
    "\n",
    "from numpyro.distributions import constraints\n",
    "from numpyro.infer import Predictive, SVI, Trace_ELBO\n",
    "\n",
    "import arviz as az\n",
    "import matplotlib.pyplot as plt\n",
    "import numpy as np\n",
    "import pandas as pd\n",
    "import seaborn as sns\n",
    "\n",
    "import sys\n",
    "import os\n",
    "import matplotlib as mpl\n",
    "from matplotlib import gridspec\n",
    "from matplotlib.ticker import FormatStrFormatter\n",
    "from matplotlib import rc\n",
    "from matplotlib.ticker import (MultipleLocator, AutoMinorLocator, FixedLocator)\n",
    "\n",
    "from arviz.data.base import dict_to_dataset\n",
    "\n",
    "from scipy.special import expit as logistic\n",
    "plt.rcParams[\"font.family\"] = \"Times New Roman\"\n",
    "plt.rcParams.update({'font.size': 22})"
   ]
  },
  {
   "cell_type": "code",
   "execution_count": 2,
   "metadata": {},
   "outputs": [
    {
     "name": "stdout",
     "output_type": "stream",
     "text": [
      "4164398\n",
      "187727\n"
     ]
    }
   ],
   "source": [
    "fname_price = \"model_input_paper.csv\"\n",
    "fname_dollar = \"model_input_dollar_paper.csv\"\n",
    "df1 = pd.read_csv(fname_price)\n",
    "df2 = pd.read_csv(fname_dollar)\n",
    "print(len(df1))\n",
    "print(len(df2))"
   ]
  },
  {
   "cell_type": "code",
   "execution_count": 3,
   "metadata": {},
   "outputs": [],
   "source": [
    "profile_x_idx, p_x = pd.factorize(df1[\"profile_label_x\"])\n",
    "profile_y_idx, p_y = pd.factorize(df1[\"profile_label_y\"])\n",
    "\n",
    "\n",
    "s_x = pd.Index(np.array([\"Third Party 9\",\"First Party 1\",\"First Party 6\",\"First Party 7 \",\"Third Party 10\",\"Third Party 3\",\"Third Party 15\",\"Third Party 8\",\n",
    "\"Third Party 14\",\"First Party 9\",\"First Party 3\",\"Third Party 23\",\"Third Party 18\",\"Third Party 11\",\"Third Party 1\",\"Third Party 20\",\n",
    "\"Third Party 22\",\"Third Party 13\",\"Third Party 7\",\"Third Party 19\",\"First Party 5\",\"Third Party 6\",\"Third Party 25\",\"Third Party 2\",\n",
    "\"Third Party 16\",\"First Party 8\",\"Third Party 24\",\"First Party 4\",\"Third Party 21\",\"Third Party 4\",\"First Party 2\",\"Third Party 5\",\n",
    "\"Third Party 12\",\"Third Party 17\"]))\n",
    "\n",
    "s_y = pd.Index(np.array([\"Third Party 9\",\"First Party 1\",\"First Party 6\",\"First Party 7 \",\"Third Party 10\",\"Third Party 3\",\"Third Party 15\",\"Third Party 8\",\n",
    "\"Third Party 14\",\"First Party 9\",\"First Party 3\",\"Third Party 23\",\"Third Party 18\",\"Third Party 11\",\"Third Party 1\",\"Third Party 20\",\n",
    "\"Third Party 22\",\"Third Party 13\",\"Third Party 7\",\"Third Party 19\",\"First Party 5\",\"Third Party 6\",\"Third Party 25\",\"Third Party 2\",\n",
    "\"Third Party 16\",\"First Party 8\",\"Third Party 24\",\"First Party 4\",\"Third Party 21\",\"Third Party 4\",\"First Party 2\",\"Third Party 5\",\n",
    "\"Third Party 12\",\"Third Party 17\"]))\n",
    "\n",
    "\n",
    "price_diff = jnp.asarray(df1.price_diff.values)\n",
    "\n",
    "seller_x = jnp.asarray(df1.seller_idx)\n",
    "seller_y = jnp.asarray(df1.seller_idx)\n",
    "\n",
    "profile_x = jnp.asarray(profile_x_idx)\n",
    "profile_y = jnp.asarray(profile_y_idx)"
   ]
  },
  {
   "cell_type": "markdown",
   "metadata": {},
   "source": [
    "### We implement the follwing model as described in the paper"
   ]
  },
  {
   "cell_type": "markdown",
   "metadata": {},
   "source": [
    "\\begin{align}\n",
    "    y_{i,j|k}&\\sim \\mathrm{Bin}(1, p_{i,j|k}) ------------ \\text{likelihood function to see a worse price}\\\\\n",
    "    \\mathrm{Logit}(p_{i,j|k}) &= \\bar{p} + (\\beta_i-\\beta_j)+  (\\delta_{k,i}-\\delta_{k,j}) \\label{eq:link} ---------\\text{logit prob of observing worse price}\\\\\n",
    "    \\beta_i &\\sim \\mathrm{N}(\\bar{\\beta},\\beta_\\sigma)  \\label{eq:beta} -------------> \\text{prob of profile $i$ seeing worse price}\\\\\n",
    "    \\bar{\\beta} &\\sim \\mathrm{N}(0.0,1.0)  ------------->  \\text{$\\beta_i$ mean}\\\\\n",
    "    \\beta_\\sigma &\\sim \\mathrm{Exp}(1.0)  ------------->  \\text{$\\beta_i$ standard deviation}\\\\\n",
    "    \\delta_{k,i} &\\sim \\mathrm{N}(0.0,0.25)  ------------->   \\text{prob of profile $i$ seeing worse price from seller $k$}\\\\\n",
    "    \\bar{p} &\\sim \\mathrm{N}(-3.0,1.0) \\ ------------->  \\text{base prob of seeing worse price}\n",
    "\\end{align}\n"
   ]
  },
  {
   "cell_type": "code",
   "execution_count": 4,
   "metadata": {},
   "outputs": [],
   "source": [
    "def model0(pref, seller_x, profile_x, seller_y, profile_y):\n",
    "    # making the model about differences conditioned on the same seller\n",
    "    Nprofiles_x = len(np.unique(profile_x))\n",
    "    Nprofiles_y = len(np.unique(profile_y))\n",
    "\n",
    "    Nsellers_x = len(np.unique(seller_x))\n",
    "    Nsellers_y = len(np.unique(seller_y))\n",
    "\n",
    "    #Nroutes = len(np.unique(route))\n",
    "\n",
    "    p_bar = sample(\"p_bar\", dist.Normal(-3, 1))\n",
    "\n",
    "    β_σ = sample(\"β_σ\", dist.Exponential(1.0))\n",
    "    β_var = sample(\"β_var\", dist.Normal(0.0, 1.0).expand([Nprofiles_x]))\n",
    "    β = β_var * β_σ # regularizing prior will cancel when we take the difference\n",
    "    δ = sample(\"δ\", dist.Normal(0, 0.25).expand([Nsellers_x, Nprofiles_x]))\n",
    "    logit_p = p_bar + (β[profile_x] - β[profile_y]) + (δ[seller_x, profile_x] - δ[seller_y, profile_y])\n",
    "    sample(\"preference\", dist.Binomial(logits=logit_p), obs=pref)\n"
   ]
  },
  {
   "cell_type": "markdown",
   "metadata": {},
   "source": [
    "## Use an autoguide from numpyro and run the SVI"
   ]
  },
  {
   "cell_type": "code",
   "execution_count": 5,
   "metadata": {},
   "outputs": [
    {
     "name": "stderr",
     "output_type": "stream",
     "text": [
      "100%|██████████| 15000/15000 [45:23<00:00,  5.51it/s, init loss: 14676065.0000, avg. loss [14251-15000]: 604343.1250]\n"
     ]
    }
   ],
   "source": [
    "autoGuide = AutoDiagonalNormal(model0)\n",
    "data_dict_svi = {\n",
    "    \"seller_x\" : seller_x,\n",
    "    \"profile_x\" : profile_x,\n",
    "    \"seller_y\" : seller_y,\n",
    "    \"profile_y\" : profile_y,\n",
    "}\n",
    "svi = SVI(\n",
    "    model0,\n",
    "    autoGuide,\n",
    "    optim.Adam(5e-4),\n",
    "    Trace_ELBO(),\n",
    "    **data_dict_svi\n",
    ")\n",
    "num_steps = 15000\n",
    "svi_result = svi.run(random.PRNGKey(0), num_steps, price_diff)\n",
    "params = svi_result.params\n",
    "\n",
    "# Run predictive and get use that for the trace\n",
    "predictive = Predictive(autoGuide, params=params, num_samples=10000)\n",
    "samples = predictive(random.PRNGKey(1), price_diff, **data_dict_svi)"
   ]
  },
  {
   "cell_type": "markdown",
   "metadata": {},
   "source": [
    "## Ensure Convergence"
   ]
  },
  {
   "cell_type": "code",
   "execution_count": 6,
   "metadata": {},
   "outputs": [
    {
     "data": {
      "text/plain": [
       "Text(0, 0.5, 'Loss (millions)')"
      ]
     },
     "execution_count": 6,
     "metadata": {},
     "output_type": "execute_result"
    },
    {
     "data": {
      "image/png": "[encoded data removed]",
      "text/plain": [
       "<Figure size 432x288 with 1 Axes>"
      ]
     },
     "metadata": {
      "needs_background": "light"
     },
     "output_type": "display_data"
    }
   ],
   "source": [
    "import matplotlib.ticker as ticker\n",
    "\n",
    "plt.rcParams.update({'font.size': 70})\n",
    "plt.rcParams.update({'font.weight' : 'normal'})\n",
    "plt.rcParams[\"font.family\"] = \"Times New Roman\"\n",
    "\n",
    "fig, ax=plt.subplots()\n",
    "\n",
    "ax.scatter(np.arange(0, num_steps), svi_result.losses/1000000, c='#2ca02c')\n",
    "\n",
    "plt.xlabel('Number of Iterations')\n",
    "plt.ylabel('Loss (millions)') \n",
    "#plt.savefig('elbo3.pdf',  bbox_inches='tight', pad_inches = 0)"
   ]
  },
  {
   "cell_type": "markdown",
   "metadata": {},
   "source": [
    "### Populate an arviz object"
   ]
  },
  {
   "cell_type": "code",
   "execution_count": 7,
   "metadata": {},
   "outputs": [],
   "source": [
    "samples.pop('_auto_latent', None)\n",
    "for elem in samples:\n",
    "    samples[elem] = samples[elem][np.newaxis, :]"
   ]
  },
  {
   "cell_type": "code",
   "execution_count": 8,
   "metadata": {},
   "outputs": [],
   "source": [
    "dims = {\n",
    "    'β_var': ['profiles'],\n",
    "    'δ': ['sellers', 'profiles']\n",
    "}\n",
    "coords = {'profiles' : p_x, 'sellers' : s_x}\n",
    "f_data = dict_to_dataset(samples, coords = coords, dims= dims)\n",
    "f_data = az.InferenceData(posterior = f_data)"
   ]
  },
  {
   "cell_type": "code",
   "execution_count": 9,
   "metadata": {},
   "outputs": [
    {
     "data": {
      "text/plain": [
       "'prob_model3.trace'"
      ]
     },
     "execution_count": 9,
     "metadata": {},
     "output_type": "execute_result"
    }
   ],
   "source": [
    "az.to_netcdf(data=f_data, filename='prob_model3.trace')"
   ]
  },
  {
   "cell_type": "markdown",
   "metadata": {},
   "source": [
    "# Setup for the Price Difference Model"
   ]
  },
  {
   "cell_type": "code",
   "execution_count": 10,
   "metadata": {},
   "outputs": [],
   "source": [
    "profile_x_idx, p_x = pd.factorize(df2[\"profile_label_x\"])\n",
    "profile_y_idx, p_y = pd.factorize(df2[\"profile_label_y\"])\n",
    "\n",
    "\n",
    "s_x = pd.Index(np.array([\"First Party 1\",\"First Party 7 \",\"Third Party 10\",\"Third Party 3\",\"Third Party 8\",\n",
    "\"Third Party 14\",\"First Party 3\",\"Third Party 23\",\"Third Party 18\",\"Third Party 11\",\"Third Party 1\",\n",
    "\"Third Party 22\", \"Third Party 13\",\"Third Party 7\",\"Third Party 19\",\"First Party 5\",\"Third Party 6\",\"Third Party 25\",\"Third Party 2\",\n",
    "\"Third Party 16\", \"First Party 8\",\"Third Party 24\",\"Third Party 21\",\"Third Party 4\",\"First Party 2\",\"Third Party 5\",\n",
    "\"Third Party 12\"  ]))\n",
    "\n",
    "s_y = s_x\n",
    "\n",
    "price_diff = jnp.asarray(df2.price_diff.values)\n",
    "\n",
    "seller_x = jnp.asarray(df2.seller_idx)\n",
    "seller_y = jnp.asarray(df2.seller_idx)\n",
    "\n",
    "profile_x = jnp.asarray(profile_x_idx)\n",
    "profile_y = jnp.asarray(profile_y_idx)"
   ]
  },
  {
   "cell_type": "markdown",
   "metadata": {},
   "source": [
    "## The Price Difference Model - note the main difference the predicted distribution is normal vs binomial"
   ]
  },
  {
   "cell_type": "markdown",
   "metadata": {},
   "source": [
    "\n",
    "\\begin{align}\n",
    "    y_{i,j|k}&\\sim \\text{N}(\\mu_{i,j|k}, \\sigma_{i,j|k})\\label{eq:norm} \\\\ \n",
    "    \\mu_{i,j|k} &= \\bar{p} + (\\beta_i-\\beta_j)+  (\\delta_{k,i}-\\delta_{k,j}) \\label{eq:mu}\\\\\n",
    "    \\sigma_{i,j|k} &\\sim \\text{N}(0.0,1.0) \\\\\n",
    "    \\beta_i &\\sim \\text{N}(\\bar{\\beta},\\beta_\\sigma)\\label{eq:beta2} \\\\ %& \\text{prob of profile $i$ seeing worse price}\\\\\n",
    "    \\bar{\\beta} &\\sim \\text{N}(0.0,1.0) \\\\ %& \\text{$\\beta_i$ mean}\\\\\n",
    "    \\beta_\\sigma &\\sim \\text{Exp}(1.0) \\\\ %& \\text{$\\beta_i$ standard deviation}\\\\\n",
    "    \\delta_{k,i} &\\sim \\text{N}(0.0,1.0)\\label{eq:delta2} \\\\ %& \\text{prob of profile $i$ seeing worse price from seller $k$}\\\\\n",
    "    \\bar{p} &\\sim \\text{N}(5.0,30.0)\\label{eq:pbar2} %& \\text{base prob of seeing worse price}\n",
    "\\end{align}\n"
   ]
  },
  {
   "cell_type": "code",
   "execution_count": 11,
   "metadata": {},
   "outputs": [],
   "source": [
    "def model0_dollar(price_diff, seller_x, profile_x, seller_y, profile_y):\n",
    "    # making the model about differences conditioned on the same seller\n",
    "    Nprofiles_x = len(np.unique(profile_x))\n",
    "    Nprofiles_y = len(np.unique(profile_y))\n",
    "\n",
    "    Nsellers_x = len(np.unique(seller_x))\n",
    "    Nsellers_y = len(np.unique(seller_y))\n",
    "\n",
    "    p_bar = sample(\"p_bar\", dist.Normal(5.0, 30.0))\n",
    "\n",
    "    β_σ = sample(\"β_σ\", dist.Exponential(1.0))\n",
    "    β_var = sample(\"β_var\", dist.Normal(0.0, 1.0).expand([Nprofiles_x]))\n",
    "    β = β_var * β_σ # regularizing prior will cancel when we take the difference\n",
    "\n",
    "    δ = sample(\"δ\", dist.Normal(0, 1.0).expand([Nsellers_x, Nprofiles_x]))\n",
    "\n",
    "    mu = p_bar + (β[profile_x] - β[profile_y]) + (δ[seller_x, profile_x] - δ[seller_y, profile_y])\n",
    "\n",
    "    sigma = sample(\"sigma\", dist.Exponential(1.0))\n",
    "\n",
    "    sample(\"price_difference\", dist.Normal(mu, sigma), obs=price_diff)\n"
   ]
  },
  {
   "cell_type": "code",
   "execution_count": 12,
   "metadata": {},
   "outputs": [
    {
     "name": "stderr",
     "output_type": "stream",
     "text": [
      "100%|██████████| 15000/15000 [02:00<00:00, 124.84it/s, init loss: 6834969.0000, avg. loss [14251-15000]: 964113.4375]\n"
     ]
    }
   ],
   "source": [
    "autoGuide = AutoDiagonalNormal(model0_dollar)\n",
    "data_dict_svi = {\n",
    "    \"seller_x\" : seller_x,\n",
    "    \"profile_x\" : profile_x,\n",
    "    \"seller_y\" : seller_y,\n",
    "    \"profile_y\" : profile_y,\n",
    "}\n",
    "svi = SVI(\n",
    "    model0_dollar,\n",
    "    autoGuide,\n",
    "    optim.Adam(5e-4),\n",
    "    Trace_ELBO(),\n",
    "    **data_dict_svi\n",
    ")\n",
    "num_steps = 15000\n",
    "svi_result = svi.run(random.PRNGKey(0), num_steps, price_diff)\n",
    "params = svi_result.params\n",
    "\n",
    "# Run predictive and get use that for the trace\n",
    "predictive = Predictive(autoGuide, params=params, num_samples=10000)\n",
    "samples = predictive(random.PRNGKey(1), price_diff, **data_dict_svi)"
   ]
  },
  {
   "cell_type": "markdown",
   "metadata": {},
   "source": [
    "### Also populate Arviz object"
   ]
  },
  {
   "cell_type": "code",
   "execution_count": 13,
   "metadata": {},
   "outputs": [],
   "source": [
    "samples.pop('_auto_latent', None)\n",
    "for elem in samples:\n",
    "    samples[elem] = samples[elem][np.newaxis, :]"
   ]
  },
  {
   "cell_type": "code",
   "execution_count": 14,
   "metadata": {},
   "outputs": [],
   "source": [
    "dims = {\n",
    "    'β_var': ['profiles'],\n",
    "    'δ': ['sellers', 'profiles']\n",
    "}\n",
    "coords = {'profiles' : p_x, 'sellers' : s_x}\n",
    "f_datap = dict_to_dataset(samples, coords = coords, dims= dims)\n",
    "f_datap = az.InferenceData(posterior = f_datap)"
   ]
  },
  {
   "cell_type": "markdown",
   "metadata": {},
   "source": [
    "### Help to match it to the right set"
   ]
  },
  {
   "cell_type": "code",
   "execution_count": 15,
   "metadata": {},
   "outputs": [],
   "source": [
    "conversion = np.array([\"First Party 1\",\"First Party 7 \",\"Third Party 10\",\"Third Party 3\",\"Third Party 8\",\n",
    "\"Third Party 14\",\"First Party 3\",\"Third Party 23\",\"Third Party 18\",\"Third Party 11\",\"Third Party 1\",\n",
    "\"Third Party 22\", \"Third Party 13\",\"Third Party 7\",\"Third Party 19\",\"First Party 5\",\"Third Party 6\",\"Third Party 25\",\"Third Party 2\",\n",
    "\"Third Party 16\", \"First Party 8\",\"Third Party 24\",\"Third Party 21\",\"Third Party 4\",\"First Party 2\",\"Third Party 5\",\n",
    "\"Third Party 12\"  ])\n",
    "profile_conversion = np.array(['Control', 'F_B', 'M_B', 'Y_B', 'S_A', 'M_A',\n",
    "       'S_B', 'F_A', 'Y_A'])\n",
    "\n",
    "f_datap.posterior['sellers'] = conversion\n",
    "f_datap.posterior['profiles'] = profile_conversion"
   ]
  },
  {
   "cell_type": "code",
   "execution_count": 16,
   "metadata": {},
   "outputs": [
    {
     "data": {
      "text/plain": [
       "'dollar_model3.trace'"
      ]
     },
     "execution_count": 16,
     "metadata": {},
     "output_type": "execute_result"
    }
   ],
   "source": [
    "az.to_netcdf(data=f_datap, filename='dollar_model3.trace')"
   ]
  }
 ],
 "metadata": {
  "kernelspec": {
   "display_name": "Python 2",
   "language": "python",
   "name": "python2"
  },
  "language_info": {
   "codemirror_mode": {
    "name": "ipython",
    "version": 2
   },
   "file_extension": ".py",
   "mimetype": "text/x-python",
   "name": "python",
   "nbconvert_exporter": "python",
   "pygments_lexer": "ipython2",
   "version": "2.7.15"
  }
 },
 "nbformat": 4,
 "nbformat_minor": 5
}
